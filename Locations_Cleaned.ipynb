{
 "cells": [
  {
   "attachments": {},
   "cell_type": "markdown",
   "metadata": {},
   "source": [
    "###  Creating and Cleaning the Dataframe.\n",
    "\n",
    "The Location data is loaded into Pandas dataframe and cleaned, Defining the bounding boxes for europe thus dropping improper location values."
   ]
  },
  {
   "cell_type": "code",
   "execution_count": 2,
   "metadata": {},
   "outputs": [],
   "source": [
    "# Reading Location data into Pandas dataframe.\n",
    "import pandas\n",
    "import re\n",
    "Locations = pandas.read_csv('./GrowLocations (1).csv')"
   ]
  },
  {
   "cell_type": "code",
   "execution_count": 3,
   "metadata": {},
   "outputs": [],
   "source": [
    "# Dropping rows with null values.\n",
    "Locations = Locations.dropna(how='any')"
   ]
  },
  {
   "cell_type": "code",
   "execution_count": 4,
   "metadata": {},
   "outputs": [],
   "source": [
    "# Extracting Serial number from some faulty Serial rows.\n",
    "Locations['Serial'] = Locations['Serial'].str.extract(r'(\\w{18})')"
   ]
  },
  {
   "cell_type": "code",
   "execution_count": 6,
   "metadata": {},
   "outputs": [],
   "source": [
    "# Dropping columns SensorType and Code.\n",
    "Locations = Locations.drop(columns=['SensorType', 'Code'])"
   ]
  },
  {
   "cell_type": "code",
   "execution_count": 5,
   "metadata": {},
   "outputs": [],
   "source": [
    "# Dropping Data about other type of sensors.\n",
    "Locations = Locations[(Locations['Type'] ==\"Thingful.Connectors.GROWSensors.SoilMoisture\")]"
   ]
  },
  {
   "cell_type": "code",
   "execution_count": 7,
   "metadata": {},
   "outputs": [],
   "source": [
    "# Renaming Latitude ang longitude columns\n",
    "Locations = Locations.rename(columns={'Latitude' : 'Longitude', 'Longitude' : 'Latitude' })"
   ]
  },
  {
   "cell_type": "code",
   "execution_count": 8,
   "metadata": {},
   "outputs": [],
   "source": [
    "# Specify the bounds of the bounding box for Europe\n",
    "min_lat = 35.494009 \n",
    "max_lat = 70.822891 \n",
    "min_lon = -31.126240\n",
    "max_lon = 31.126240"
   ]
  },
  {
   "cell_type": "code",
   "execution_count": 9,
   "metadata": {},
   "outputs": [],
   "source": [
    "# drop rows where the latitude is outside the bounds\n",
    "Locations = Locations[(Locations['Latitude'] >= min_lat) & (Locations['Latitude'] <= max_lat)]\n",
    "\n",
    "# drop rows where the longitude is outside the bounds\n",
    "Locations = Locations[(Locations['Longitude'] >= min_lon) & (Locations['Longitude'] <= max_lon)]"
   ]
  },
  {
   "cell_type": "code",
   "execution_count": 11,
   "metadata": {},
   "outputs": [],
   "source": [
    "# Save the cleaned file.\n",
    "Locations.to_csv('./Locationcleaned.csv')"
   ]
  }
 ],
 "metadata": {
  "kernelspec": {
   "display_name": "Python 3",
   "language": "python",
   "name": "python3"
  },
  "language_info": {
   "codemirror_mode": {
    "name": "ipython",
    "version": 3
   },
   "file_extension": ".py",
   "mimetype": "text/x-python",
   "name": "python",
   "nbconvert_exporter": "python",
   "pygments_lexer": "ipython3",
   "version": "3.11.1"
  },
  "orig_nbformat": 4,
  "vscode": {
   "interpreter": {
    "hash": "7f5727e8bb2dc6bf36af9f3ef49537078708c5c12498c220fb03bfe83aea75b7"
   }
  }
 },
 "nbformat": 4,
 "nbformat_minor": 2
}
